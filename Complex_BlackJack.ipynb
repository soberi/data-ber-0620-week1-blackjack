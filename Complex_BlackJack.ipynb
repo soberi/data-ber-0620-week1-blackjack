{
 "cells": [
  {
   "cell_type": "code",
   "execution_count": 2,
   "metadata": {},
   "outputs": [],
   "source": [
    "import random"
   ]
  },
  {
   "cell_type": "code",
   "execution_count": 10,
   "metadata": {},
   "outputs": [
    {
     "data": {
      "text/plain": [
       "([(6, '6 of diamonds'), (10, '10 of spades')],\n",
       " [(3, '3 of clubs'), (7, '7 of spades')])"
      ]
     },
     "execution_count": 10,
     "metadata": {},
     "output_type": "execute_result"
    }
   ],
   "source": [
    "def card_selector():\n",
    "    card_deck = [(2, \"2 of hearts\"), (2, \"2 of diamonds\"), (2, \"2 of spades\"), (2, \"2 of clubs\"), \n",
    "                 (3, \"3 of hearts\"), (3, \"3 of diamonds\"), (3, \"3 of spades\"), (3, \"3 of clubs\"),\n",
    "                 (4, \"4 of hearts\"), (4, \"4 of diamonds\"), (4, \"4 of spades\"), (4, \"4 of clubs\"),\n",
    "                 (5, \"5 of hearts\"), (5, \"5 of diamonds\"), (5, \"5 of spades\"), (5, \"5 of clubs\"),\n",
    "                 (6, \"6 of hearts\"), (6, \"6 of diamonds\"), (6, \"6 of spades\"), (6, \"6 of clubs\"),\n",
    "                 (7, \"7 of hearts\"), (7, \"7 of diamonds\"), (7, \"7 of spades\"), (7, \"7 of clubs\"),\n",
    "                 (8, \"8 of hearts\"), (8, \"8 of diamonds\"), (8, \"8 of spades\"), (8, \"8 of clubs\"),\n",
    "                 (9, \"9 of hearts\"), (9, \"9 of diamonds\"), (9, \"9 of spades\"), (9, \"9 of clubs\"),\n",
    "                 (10, \"10 of hearts\"), (10, \"10 of diamonds\"), (10, \"10 of spades\"), (10, \"10 of clubs\"),\n",
    "                 (10, \"Jack of hearts\"), (10, \"Jack of diamonds\"), (10, \"Jack of spades\"), (10, \"Jack of clubs\"),\n",
    "                 (10, \"Queen of hearts\"), (10, \"Queen of diamonds\"), (10, \"Queen of spades\"), (10, \"Queen of clubs\"),\n",
    "                 (10, \"King of hearts\"), (10, \"King of diamonds\"), (10, \"King of spades\"), (10, \"King of clubs\"),\n",
    "                (1, 11, \"Ace of hearts\"), (1, 11, \"Ace of diamonds\"), (1, 11, \"Ace of spades\"), (1, 11, \"Ace of clubs\")]\n",
    "    #print(\"Your card is\", random.sample(card_deck, 1))\n",
    "    dealer_hand = random.sample(card_deck, 2)\n",
    "    player_hand = random.sample(card_deck, 2)\n",
    "    return dealer_hand, player_hand\n",
    "\n",
    "card_selector()"
   ]
  },
  {
   "cell_type": "code",
   "execution_count": 27,
   "metadata": {},
   "outputs": [
    {
     "name": "stdout",
     "output_type": "stream",
     "text": [
      "dealer has ([(8, '8 of hearts'), (7, '7 of diamonds')], [(4, '4 of diamonds'), (6, '6 of spades')])\n",
      "player has ([(8, '8 of hearts'), (7, '7 of diamonds')], [(4, '4 of diamonds'), (6, '6 of spades')])\n"
     ]
    }
   ],
   "source": [
    "def display_cards(cards):\n",
    "    print(\"dealer has\", cards)\n",
    "    print(\"player has\", cards)\n",
    "    \n",
    "display_cards(card_selector())"
   ]
  }
 ],
 "metadata": {
  "kernelspec": {
   "display_name": "Python 3",
   "language": "python",
   "name": "python3"
  },
  "language_info": {
   "codemirror_mode": {
    "name": "ipython",
    "version": 3
   },
   "file_extension": ".py",
   "mimetype": "text/x-python",
   "name": "python",
   "nbconvert_exporter": "python",
   "pygments_lexer": "ipython3",
   "version": "3.8.3"
  }
 },
 "nbformat": 4,
 "nbformat_minor": 4
}
