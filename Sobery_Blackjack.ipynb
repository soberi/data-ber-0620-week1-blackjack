{
 "cells": [
  {
   "cell_type": "markdown",
   "metadata": {},
   "source": [
    "## Vanilla BlackJack\n",
    "\n",
    "#### Basic blackjack game with functions\n"
   ]
  },
  {
   "cell_type": "code",
   "execution_count": null,
   "metadata": {},
   "outputs": [],
   "source": [
    "import random"
   ]
  },
  {
   "cell_type": "code",
   "execution_count": null,
   "metadata": {},
   "outputs": [],
   "source": [
    "# get the dealer's hand\n",
    "\n",
    "def dealer_cards():\n",
    "    dealer_hand = []\n",
    "    while len(dealer_hand) != 2:\n",
    "        dealer_hand.append(random.randint(1, 11))\n",
    "        if len(dealer_hand) == 2:\n",
    "            return dealer_hand\n",
    "    "
   ]
  },
  {
   "cell_type": "code",
   "execution_count": null,
   "metadata": {},
   "outputs": [],
   "source": [
    "# get the player's hand\n",
    "\n",
    "def player_cards():\n",
    "    player_hand = []\n",
    "    while len(player_hand) != 2:\n",
    "        player_hand.append(random.randint(1, 11))\n",
    "        if len(player_hand) == 2:\n",
    "            return player_hand\n"
   ]
  },
  {
   "cell_type": "code",
   "execution_count": null,
   "metadata": {},
   "outputs": [],
   "source": [
    "# sum of dealer card value, X is the face down card\n",
    "\n",
    "def dealer_points(cards):\n",
    "#    print(\"dealer has\", cards)\n",
    "    print(\"Dealer has X and\", cards[1])\n",
    "    if sum(cards) == 21:\n",
    "         print(\"Dealer wins with Blackjack\", cards)\n",
    "    elif sum(cards) > 21:\n",
    "         print(\"Dealer has busted!\")\n"
   ]
  },
  {
   "cell_type": "code",
   "execution_count": null,
   "metadata": {},
   "outputs": [],
   "source": [
    "# check sum of player card value against dealer\n",
    "\n",
    "def player_points(player_hand, dealer_hand):\n",
    "\n",
    "    print(\"You have \" + str(sum(player_hand)) + \" with\", player_hand)\n",
    "    while sum(player_hand) < 21: \n",
    "        player_action = str(input(\"stay or hit? \\n\"))\n",
    "        if player_action == \"hit\":\n",
    "            player_hand.append(random.randint(1,11))\n",
    "            print(\"You now have \" + str(sum(player_hand)) + \" with\", player_hand)\n",
    "        elif player_action == \"stay\":\n",
    "            print(\"Dealer has a total of \" + str(sum(dealer_hand)) + \" with\", dealer_hand)\n",
    "            print(\"You have \" + str(sum(player_hand)) + \" with\", player_hand)\n",
    "            if sum(dealer_hand) > sum(player_hand):\n",
    "                print(\"Dealer wins!\")\n",
    "            else:\n",
    "                print(\"You win!\")\n",
    "                break\n",
    "        else:\n",
    "            print(\"Please choose stay or hit.\")\n",
    "        \n",
    "    if sum(player_hand) > 21:\n",
    "        print(\"You busted!\")\n",
    "    elif sum(player_hand) == 21:\n",
    "        print(\"You have BlackJack! you win\")\n"
   ]
  },
  {
   "cell_type": "code",
   "execution_count": null,
   "metadata": {},
   "outputs": [],
   "source": [
    "# run the game\n",
    "dealer_cards()\n",
    "player_cards()\n",
    "\n",
    "dealer_points(dealer_cards())\n",
    "player_points(player_cards(), dealer_cards())"
   ]
  }
 ],
 "metadata": {
  "kernelspec": {
   "display_name": "Python 3",
   "language": "python",
   "name": "python3"
  },
  "language_info": {
   "codemirror_mode": {
    "name": "ipython",
    "version": 3
   },
   "file_extension": ".py",
   "mimetype": "text/x-python",
   "name": "python",
   "nbconvert_exporter": "python",
   "pygments_lexer": "ipython3",
   "version": "3.8.3"
  }
 },
 "nbformat": 4,
 "nbformat_minor": 4
}
