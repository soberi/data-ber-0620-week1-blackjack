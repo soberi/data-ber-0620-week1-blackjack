{
 "cells": [
  {
   "cell_type": "markdown",
   "metadata": {},
   "source": [
    "## Vanilla BlackJack\n",
    "\n",
    "#### Basic blackjack game with functions\n"
   ]
  },
  {
   "cell_type": "code",
   "execution_count": null,
   "metadata": {},
   "outputs": [],
   "source": [
    "import random"
   ]
  },
  {
   "cell_type": "code",
   "execution_count": null,
   "metadata": {},
   "outputs": [],
   "source": [
    "# get the dealer's hand\n",
    "\n",
    "def dealer_cards():\n",
    "    dealer_hand = []\n",
    "    while len(dealer_hand) != 2:\n",
    "        dealer_hand.append(random.randint(1, 11))\n",
    "        if len(dealer_hand) == 2:\n",
    "            return dealer_hand\n",
    "    "
   ]
  },
  {
   "cell_type": "code",
   "execution_count": null,
   "metadata": {},
   "outputs": [],
   "source": [
    "# get the player's hand\n",
    "\n",
    "def player_cards():\n",
    "    player_hand = []\n",
    "    while len(player_hand) != 2:\n",
    "        player_hand.append(random.randint(1, 11))\n",
    "        if len(player_hand) == 2:\n",
    "            return player_hand\n"
   ]
  },
  {
   "cell_type": "code",
   "execution_count": null,
   "metadata": {},
   "outputs": [],
   "source": [
    "# sum of dealer card value, X is the face down card\n",
    "\n",
    "def dealer_points(cards):\n",
    "#    print(\"dealer has\", cards)\n",
    "    print(\"Dealer has X and\", cards[1])\n",
    "    if sum(cards) == 21:\n",
    "         print(\"Dealer wins with Blackjack\", cards)\n",
    "    elif sum(cards) > 21:\n",
    "         print(\"Dealer has busted!\")\n"
   ]
  },
  {
   "cell_type": "code",
   "execution_count": null,
   "metadata": {},
   "outputs": [],
   "source": [
    "def get_another_card(player_hand):\n",
    "    player_hand.append(random.randint(1,11))\n",
    "    print(\"You now have \" + str(sum(player_hand)) + \" with\", player_hand)\n",
    "    return player_hand"
   ]
  },
  {
   "cell_type": "code",
   "execution_count": null,
   "metadata": {},
   "outputs": [],
   "source": [
    "def display_hands(player_hand, dealer_hand):\n",
    "    print(\"Dealer has a total of \" + str(sum(dealer_hand)) + \" with\", dealer_hand)\n",
    "    print(\"You have \" + str(sum(player_hand)) + \" with\", player_hand)\n",
    "    "
   ]
  },
  {
   "cell_type": "code",
   "execution_count": null,
   "metadata": {},
   "outputs": [],
   "source": [
    "# check sum of player card value against dealer\n",
    "\n",
    "def init_blackjack(player_hand, dealer_hand):\n",
    "    player_cards()\n",
    "    dealer_cards()\n",
    "    dealer_points(dealer_cards())\n",
    "    result = 0\n",
    "    \n",
    "    print(\"You have \" + str(sum(player_hand)) + \" with\", player_hand)\n",
    "    \n",
    "    while sum(player_hand) < 21: \n",
    "        player_action = str(input(\"stay or hit? \\n\"))\n",
    "        \n",
    "        if player_action == \"hit\":\n",
    "            get_another_card(player_hand)\n",
    "        elif player_action == \"stay\":\n",
    "            display_hands(player_hand, dealer_hand)\n",
    "            \n",
    "            if sum(dealer_hand) > sum(player_hand):\n",
    "                result = 1\n",
    "                return result\n",
    "            else:\n",
    "                return result\n",
    "                break\n",
    "        else:\n",
    "            print(\"Please choose stay or hit.\")\n",
    "        \n",
    "    if sum(player_hand) > 21:\n",
    "        print(\"You busted!\")\n",
    "        result = 1\n",
    "        return result\n",
    "    elif sum(player_hand) == 21:\n",
    "        print(\"You have BlackJack!\")\n",
    "        return result\n"
   ]
  },
  {
   "cell_type": "code",
   "execution_count": null,
   "metadata": {},
   "outputs": [],
   "source": [
    "# We were required to use a dict, but I really did not know where where one would be useful in this game\n",
    "\n",
    "game_status = {\n",
    "               0: \"You win!\",\n",
    "               1: \"The house wins!\",\n",
    "              }\n",
    "\n",
    "game_status.get(init_blackjack(player_cards(), dealer_cards()))\n"
   ]
  }
 ],
 "metadata": {
  "kernelspec": {
   "display_name": "Python 3",
   "language": "python",
   "name": "python3"
  },
  "language_info": {
   "codemirror_mode": {
    "name": "ipython",
    "version": 3
   },
   "file_extension": ".py",
   "mimetype": "text/x-python",
   "name": "python",
   "nbconvert_exporter": "python",
   "pygments_lexer": "ipython3",
   "version": "3.8.3"
  }
 },
 "nbformat": 4,
 "nbformat_minor": 4
}
